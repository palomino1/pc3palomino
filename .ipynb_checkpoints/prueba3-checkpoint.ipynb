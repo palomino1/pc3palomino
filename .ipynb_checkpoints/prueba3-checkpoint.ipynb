{
 "cells": [
  {
   "cell_type": "code",
   "execution_count": 5,
   "id": "c5d3c66d",
   "metadata": {},
   "outputs": [
    {
     "name": "stdout",
     "output_type": "stream",
     "text": [
      "Factorial de 5 es 120\n"
     ]
    }
   ],
   "source": [
    "def factorial(n): \n",
    "    return 1 if (n==1 or n==0) else n * factorial(n - 1);  \n",
    "  \n",
    "num = 5; \n",
    "print(\"Factorial de\",num,\"es\", factorial(num))"
   ]
  },
  {
   "cell_type": "code",
   "execution_count": null,
   "id": "649ace2f",
   "metadata": {},
   "outputs": [],
   "source": [
    "n = 10\n",
    "fact = 1\n",
    "  \n",
    "for i in range(1,n+1):\n",
    "    fact = fact * i\n",
    "      \n",
    "print (\"el factorial de n es : \",end=\"\")\n",
    "print (fact)"
   ]
  }
 ],
 "metadata": {
  "kernelspec": {
   "display_name": "Python 3 (ipykernel)",
   "language": "python",
   "name": "python3"
  },
  "language_info": {
   "codemirror_mode": {
    "name": "ipython",
    "version": 3
   },
   "file_extension": ".py",
   "mimetype": "text/x-python",
   "name": "python",
   "nbconvert_exporter": "python",
   "pygments_lexer": "ipython3",
   "version": "3.9.12"
  }
 },
 "nbformat": 4,
 "nbformat_minor": 5
}
